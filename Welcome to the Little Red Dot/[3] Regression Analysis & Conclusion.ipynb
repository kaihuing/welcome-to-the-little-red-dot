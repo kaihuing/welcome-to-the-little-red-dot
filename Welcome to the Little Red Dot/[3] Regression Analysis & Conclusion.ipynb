{
 "cells": [
  {
   "cell_type": "markdown",
   "metadata": {},
   "source": [
    "# 3.2 (Cont'd) Cross-sectional analysis (2018) \n",
    "We continue our cross-sectional regression analysis of international arrivals to Singapore using R. We will apply backward elimination, forward selection and stepwise regression techniques to select variables to construct our regression model. "
   ]
  },
  {
   "cell_type": "code",
   "execution_count": 1,
   "metadata": {},
   "outputs": [],
   "source": [
    "#Load the transformed 2018 international arrivals dataset\n",
    "\n",
    "df_2018 = read.csv(\"df_2018_model.csv\",stringsAsFactors = FALSE)"
   ]
  },
  {
   "cell_type": "code",
   "execution_count": 2,
   "metadata": {},
   "outputs": [
    {
     "data": {
      "text/html": [
       "<table>\n",
       "<thead><tr><th scope=col>country_code</th><th scope=col>country</th><th scope=col>year</th><th scope=col>visitor_count</th><th scope=col>total_pop</th><th scope=col>gdp_per_capita</th><th scope=col>comm_lang</th><th scope=col>distw_km</th><th scope=col>log_visitor_count</th><th scope=col>log_total_pop</th><th scope=col>log_gdp_per_capita</th></tr></thead>\n",
       "<tbody>\n",
       "\t<tr><td>AUS              </td><td>Australia        </td><td>2018             </td><td>1107215          </td><td>  24992369       </td><td>56919.374        </td><td>1                </td><td> 5893.497        </td><td>13.91736         </td><td>17.03408         </td><td>10.949391        </td></tr>\n",
       "\t<tr><td>BGD              </td><td>Bangladesh       </td><td>2018             </td><td> 126301          </td><td> 161356039       </td><td> 1203.216        </td><td>0                </td><td> 2874.279        </td><td>11.74642         </td><td>18.89912         </td><td> 7.092753        </td></tr>\n",
       "\t<tr><td>BRN              </td><td>Brunei Darussalam</td><td>2018             </td><td>  74960          </td><td>    428962       </td><td>31436.949        </td><td>1                </td><td> 1264.269        </td><td>11.22471         </td><td>12.96912         </td><td>10.355739        </td></tr>\n",
       "\t<tr><td>CAN              </td><td>Canada           </td><td>2018             </td><td> 129512          </td><td>  37058856       </td><td>51357.754        </td><td>1                </td><td>14394.100        </td><td>11.77153         </td><td>17.42802         </td><td>10.846571        </td></tr>\n",
       "\t<tr><td>CHN              </td><td>China            </td><td>2018             </td><td>3416475          </td><td>1392730000       </td><td> 7754.962        </td><td>1                </td><td> 4097.429        </td><td>15.04412         </td><td>21.05453         </td><td> 8.956088        </td></tr>\n",
       "\t<tr><td>DNK              </td><td>Denmark          </td><td>2018             </td><td>  37417          </td><td>   5797446       </td><td>62888.727        </td><td>0                </td><td>10051.390        </td><td>10.52988         </td><td>15.57293         </td><td>11.049122        </td></tr>\n",
       "</tbody>\n",
       "</table>\n"
      ],
      "text/latex": [
       "\\begin{tabular}{r|lllllllllll}\n",
       " country\\_code & country & year & visitor\\_count & total\\_pop & gdp\\_per\\_capita & comm\\_lang & distw\\_km & log\\_visitor\\_count & log\\_total\\_pop & log\\_gdp\\_per\\_capita\\\\\n",
       "\\hline\n",
       "\t AUS               & Australia         & 2018              & 1107215           &   24992369        & 56919.374         & 1                 &  5893.497         & 13.91736          & 17.03408          & 10.949391        \\\\\n",
       "\t BGD               & Bangladesh        & 2018              &  126301           &  161356039        &  1203.216         & 0                 &  2874.279         & 11.74642          & 18.89912          &  7.092753        \\\\\n",
       "\t BRN               & Brunei Darussalam & 2018              &   74960           &     428962        & 31436.949         & 1                 &  1264.269         & 11.22471          & 12.96912          & 10.355739        \\\\\n",
       "\t CAN               & Canada            & 2018              &  129512           &   37058856        & 51357.754         & 1                 & 14394.100         & 11.77153          & 17.42802          & 10.846571        \\\\\n",
       "\t CHN               & China             & 2018              & 3416475           & 1392730000        &  7754.962         & 1                 &  4097.429         & 15.04412          & 21.05453          &  8.956088        \\\\\n",
       "\t DNK               & Denmark           & 2018              &   37417           &    5797446        & 62888.727         & 0                 & 10051.390         & 10.52988          & 15.57293          & 11.049122        \\\\\n",
       "\\end{tabular}\n"
      ],
      "text/markdown": [
       "\n",
       "| country_code | country | year | visitor_count | total_pop | gdp_per_capita | comm_lang | distw_km | log_visitor_count | log_total_pop | log_gdp_per_capita |\n",
       "|---|---|---|---|---|---|---|---|---|---|---|\n",
       "| AUS               | Australia         | 2018              | 1107215           |   24992369        | 56919.374         | 1                 |  5893.497         | 13.91736          | 17.03408          | 10.949391         |\n",
       "| BGD               | Bangladesh        | 2018              |  126301           |  161356039        |  1203.216         | 0                 |  2874.279         | 11.74642          | 18.89912          |  7.092753         |\n",
       "| BRN               | Brunei Darussalam | 2018              |   74960           |     428962        | 31436.949         | 1                 |  1264.269         | 11.22471          | 12.96912          | 10.355739         |\n",
       "| CAN               | Canada            | 2018              |  129512           |   37058856        | 51357.754         | 1                 | 14394.100         | 11.77153          | 17.42802          | 10.846571         |\n",
       "| CHN               | China             | 2018              | 3416475           | 1392730000        |  7754.962         | 1                 |  4097.429         | 15.04412          | 21.05453          |  8.956088         |\n",
       "| DNK               | Denmark           | 2018              |   37417           |    5797446        | 62888.727         | 0                 | 10051.390         | 10.52988          | 15.57293          | 11.049122         |\n",
       "\n"
      ],
      "text/plain": [
       "  country_code country           year visitor_count total_pop  gdp_per_capita\n",
       "1 AUS          Australia         2018 1107215         24992369 56919.374     \n",
       "2 BGD          Bangladesh        2018  126301        161356039  1203.216     \n",
       "3 BRN          Brunei Darussalam 2018   74960           428962 31436.949     \n",
       "4 CAN          Canada            2018  129512         37058856 51357.754     \n",
       "5 CHN          China             2018 3416475       1392730000  7754.962     \n",
       "6 DNK          Denmark           2018   37417          5797446 62888.727     \n",
       "  comm_lang distw_km  log_visitor_count log_total_pop log_gdp_per_capita\n",
       "1 1          5893.497 13.91736          17.03408      10.949391         \n",
       "2 0          2874.279 11.74642          18.89912       7.092753         \n",
       "3 1          1264.269 11.22471          12.96912      10.355739         \n",
       "4 1         14394.100 11.77153          17.42802      10.846571         \n",
       "5 1          4097.429 15.04412          21.05453       8.956088         \n",
       "6 0         10051.390 10.52988          15.57293      11.049122         "
      ]
     },
     "metadata": {},
     "output_type": "display_data"
    }
   ],
   "source": [
    "head(df_2018)"
   ]
  },
  {
   "cell_type": "markdown",
   "metadata": {},
   "source": [
    "## 3.2.1 Regression models "
   ]
  },
  {
   "cell_type": "markdown",
   "metadata": {},
   "source": [
    "### Regression: Backward Elimination \n",
    "We begin with backward elimination to construct our multi-variable regression model. This involves starting with all independent variables and eliminating them one at a time if it does not contribute to the regression model. \n",
    "\n",
    "For backwards elimination, R uses the Akaike Information Criterion (AIC) as the metric to decide if a variable should be dropped from an existing model. "
   ]
  },
  {
   "cell_type": "code",
   "execution_count": 3,
   "metadata": {},
   "outputs": [],
   "source": [
    "#Fit a model with all the independent variables we wish to consider \n",
    "\n",
    "backward_model <- lm(log_visitor_count ~ log_gdp_per_capita + log_total_pop + comm_lang + distw_km, data=df_2018)"
   ]
  },
  {
   "cell_type": "code",
   "execution_count": 4,
   "metadata": {},
   "outputs": [
    {
     "name": "stdout",
     "output_type": "stream",
     "text": [
      "Start:  AIC=-1.07\n",
      "log_visitor_count ~ log_gdp_per_capita + log_total_pop + comm_lang + \n",
      "    distw_km\n",
      "\n",
      "                     Df Sum of Sq    RSS    AIC\n",
      "- comm_lang           1     1.440 30.804 -1.201\n",
      "<none>                            29.364 -1.068\n",
      "- log_gdp_per_capita  1    31.982 61.346 25.666\n",
      "- distw_km            1    37.016 66.380 28.742\n",
      "- log_total_pop       1    57.378 86.742 39.176\n",
      "\n",
      "Step:  AIC=-1.2\n",
      "log_visitor_count ~ log_gdp_per_capita + log_total_pop + distw_km\n",
      "\n",
      "                     Df Sum of Sq    RSS    AIC\n",
      "<none>                            30.804 -1.201\n",
      "- log_gdp_per_capita  1    31.492 62.295 24.265\n",
      "- distw_km            1    37.887 68.691 28.076\n",
      "- log_total_pop       1    57.204 88.008 37.741\n"
     ]
    },
    {
     "data": {
      "text/plain": [
       "\n",
       "Call:\n",
       "lm(formula = log_visitor_count ~ log_gdp_per_capita + log_total_pop + \n",
       "    distw_km, data = df_2018)\n",
       "\n",
       "Coefficients:\n",
       "       (Intercept)  log_gdp_per_capita       log_total_pop            distw_km  \n",
       "        -1.205e+01           1.129e+00           8.856e-01          -3.621e-04  \n"
      ]
     },
     "metadata": {},
     "output_type": "display_data"
    }
   ],
   "source": [
    "#Run the backward elimination process to obtain a regression model. \n",
    "\n",
    "step(backward_model, direction = \"backward\")"
   ]
  },
  {
   "cell_type": "markdown",
   "metadata": {},
   "source": [
    "### Regression: Forward Selection\n",
    "We next apply forward selection to construct our multi-variable regression model and compare it with the one produced by backward elimination. This involves starting with only an intercept before adding more independent variables that contributes to the regression model. \n",
    "\n",
    "For forward selection, R uses the Akaike Information Criterion (AIC) as the metric to decide if a variable should be included in an existing model. "
   ]
  },
  {
   "cell_type": "code",
   "execution_count": 5,
   "metadata": {},
   "outputs": [],
   "source": [
    "#Fit a model with only an intercept\n",
    "\n",
    "forward_model = lm(log_visitor_count ~ 1, data=df_2018)"
   ]
  },
  {
   "cell_type": "code",
   "execution_count": 6,
   "metadata": {},
   "outputs": [
    {
     "name": "stdout",
     "output_type": "stream",
     "text": [
      "Start:  AIC=40.18\n",
      "log_visitor_count ~ 1\n",
      "\n",
      "                     Df Sum of Sq     RSS    AIC\n",
      "+ log_total_pop       1    31.869  71.928 27.872\n",
      "+ distw_km            1    13.917  89.880 36.562\n",
      "<none>                            103.797 40.176\n",
      "+ comm_lang           1     2.217 101.581 41.334\n",
      "+ log_gdp_per_capita  1     2.005 101.793 41.416\n",
      "\n",
      "Step:  AIC=27.87\n",
      "log_visitor_count ~ log_total_pop\n",
      "\n",
      "                     Df Sum of Sq    RSS    AIC\n",
      "+ distw_km            1    9.6331 62.295 24.265\n",
      "<none>                            71.928 27.872\n",
      "+ log_gdp_per_capita  1    3.2378 68.691 28.076\n",
      "+ comm_lang           1    1.7362 70.192 28.919\n",
      "\n",
      "Step:  AIC=24.26\n",
      "log_visitor_count ~ log_total_pop + distw_km\n",
      "\n",
      "                     Df Sum of Sq    RSS     AIC\n",
      "+ log_gdp_per_capita  1   31.4915 30.804 -1.2011\n",
      "<none>                            62.295 24.2646\n",
      "+ comm_lang           1    0.9493 61.346 25.6658\n",
      "\n",
      "Step:  AIC=-1.2\n",
      "log_visitor_count ~ log_total_pop + distw_km + log_gdp_per_capita\n",
      "\n",
      "            Df Sum of Sq    RSS     AIC\n",
      "<none>                   30.804 -1.2011\n",
      "+ comm_lang  1    1.4399 29.364 -1.0681\n"
     ]
    },
    {
     "data": {
      "text/plain": [
       "\n",
       "Call:\n",
       "lm(formula = log_visitor_count ~ log_total_pop + distw_km + log_gdp_per_capita, \n",
       "    data = df_2018)\n",
       "\n",
       "Coefficients:\n",
       "       (Intercept)       log_total_pop            distw_km  log_gdp_per_capita  \n",
       "        -1.205e+01           8.856e-01          -3.621e-04           1.129e+00  \n"
      ]
     },
     "metadata": {},
     "output_type": "display_data"
    }
   ],
   "source": [
    "#Run the forward selection process while the defining the independent variables to be considered (see above)\n",
    "\n",
    "step(forward_model,direction=\"forward\",scope=formula(backward_model))"
   ]
  },
  {
   "cell_type": "markdown",
   "metadata": {},
   "source": [
    "We note that the same model is obtained from both forward selection and backward elimination. "
   ]
  },
  {
   "cell_type": "markdown",
   "metadata": {},
   "source": [
    "### Final model: Stepwise Regression\n",
    "We will obtain our final model using stepwise regression, which can be seen as a combination of both forward selection and backward elimination. At each step, variables can be added or dropped depending on how each action alters the AIC score. "
   ]
  },
  {
   "cell_type": "code",
   "execution_count": 7,
   "metadata": {},
   "outputs": [
    {
     "name": "stdout",
     "output_type": "stream",
     "text": [
      "Start:  AIC=40.18\n",
      "log_visitor_count ~ 1\n",
      "\n",
      "                     Df Sum of Sq     RSS    AIC\n",
      "+ log_total_pop       1    31.869  71.928 27.872\n",
      "+ distw_km            1    13.917  89.880 36.562\n",
      "<none>                            103.797 40.176\n",
      "+ comm_lang           1     2.217 101.581 41.334\n",
      "+ log_gdp_per_capita  1     2.005 101.793 41.416\n",
      "\n",
      "Step:  AIC=27.87\n",
      "log_visitor_count ~ log_total_pop\n",
      "\n",
      "                     Df Sum of Sq     RSS    AIC\n",
      "+ distw_km            1     9.633  62.295 24.265\n",
      "<none>                             71.928 27.872\n",
      "+ log_gdp_per_capita  1     3.238  68.691 28.076\n",
      "+ comm_lang           1     1.736  70.192 28.919\n",
      "- log_total_pop       1    31.869 103.797 40.176\n",
      "\n",
      "Step:  AIC=24.26\n",
      "log_visitor_count ~ log_total_pop + distw_km\n",
      "\n",
      "                     Df Sum of Sq    RSS    AIC\n",
      "+ log_gdp_per_capita  1   31.4915 30.804 -1.201\n",
      "<none>                            62.295 24.265\n",
      "+ comm_lang           1    0.9493 61.346 25.666\n",
      "- distw_km            1    9.6331 71.928 27.872\n",
      "- log_total_pop       1   27.5848 89.880 36.562\n",
      "\n",
      "Step:  AIC=-1.2\n",
      "log_visitor_count ~ log_total_pop + distw_km + log_gdp_per_capita\n",
      "\n",
      "                     Df Sum of Sq    RSS    AIC\n",
      "<none>                            30.804 -1.201\n",
      "+ comm_lang           1     1.440 29.364 -1.068\n",
      "- log_gdp_per_capita  1    31.492 62.295 24.265\n",
      "- distw_km            1    37.887 68.691 28.076\n",
      "- log_total_pop       1    57.204 88.008 37.741\n"
     ]
    }
   ],
   "source": [
    "final_model = step(forward_model,direction=\"both\",scope=formula(backward_model))"
   ]
  },
  {
   "cell_type": "markdown",
   "metadata": {},
   "source": [
    "We obtain the final model constructed through stepwise regression."
   ]
  },
  {
   "cell_type": "code",
   "execution_count": 8,
   "metadata": {
    "scrolled": false
   },
   "outputs": [
    {
     "data": {
      "text/plain": [
       "\n",
       "Call:\n",
       "lm(formula = log_visitor_count ~ log_total_pop + distw_km + log_gdp_per_capita, \n",
       "    data = df_2018)\n",
       "\n",
       "Residuals:\n",
       "     Min       1Q   Median       3Q      Max \n",
       "-2.60377 -0.32678  0.09842  0.58925  1.40789 \n",
       "\n",
       "Coefficients:\n",
       "                     Estimate Std. Error t value Pr(>|t|)    \n",
       "(Intercept)        -1.205e+01  3.144e+00  -3.834 0.000504 ***\n",
       "log_total_pop       8.856e-01  1.099e-01   8.062 1.72e-09 ***\n",
       "distw_km           -3.621e-04  5.518e-05  -6.561 1.42e-07 ***\n",
       "log_gdp_per_capita  1.129e+00  1.887e-01   5.982 8.16e-07 ***\n",
       "---\n",
       "Signif. codes:  0 '***' 0.001 '**' 0.01 '*' 0.05 '.' 0.1 ' ' 1\n",
       "\n",
       "Residual standard error: 0.9381 on 35 degrees of freedom\n",
       "Multiple R-squared:  0.7032,\tAdjusted R-squared:  0.6778 \n",
       "F-statistic: 27.65 on 3 and 35 DF,  p-value: 2.392e-09\n"
      ]
     },
     "metadata": {},
     "output_type": "display_data"
    }
   ],
   "source": [
    "#Obtain a summary of the regression model, such as coefficients, p-values and Adjusted R-squared\n",
    "\n",
    "summary(final_model)"
   ]
  },
  {
   "cell_type": "markdown",
   "metadata": {},
   "source": [
    "## Model interpretation\n",
    "We can interpret the final stepwise regression model as follows: \n",
    "\n",
    " - Holding all else constant, if Total Population increases by 1%, we expect Total Arrivals to increase by 0.89%\n",
    " - Holding all else constant, if Distance from Singapore increases by 1000 km, we expect Total Arrivals to decrease by 36%\n",
    " - Holding all else constant, if GDP per capita increases by 1%, we expect Total Arrivals to increase by 1.13%\n",
    " - There is evidence to infer that log(population), log(GDP per capita) and distance from Singapore are linearly-related to total arrivals - these coefficients are significant at the 1% level \n",
    " - Conversely, there is insufficient evidence to conclude that sharing a common language is associated with arrival numbers from a foreign country \n",
    " - The model can explain around 67.78% of the variation in international arrivals data "
   ]
  },
  {
   "cell_type": "markdown",
   "metadata": {},
   "source": [
    "## 3.2.2 Model diagnostic plots\n",
    "The section visualises some diagnostic plots for the regression model we constructed. We will be looking at the (1) residuals vs. fitted values plot, (2) Normal Q-Q plot, (3) Spread-location plot and (4) Residuals vs. Leverage plot. These plots can help assess how well/poorly the model represents the given data. "
   ]
  },
  {
   "cell_type": "markdown",
   "metadata": {},
   "source": [
    "### Residuals vs. Fitted plot\n",
    "Residuals represent variations left unexplained by the model. This plot is used to reveal if the residuals have non-linear patterns, which could signal that the existing fitted model has a problem. If the plot has equally spread residuals around a horizontal line without a clear pattern, it is a good indication that a non-linear relationship does not exist. "
   ]
  },
  {
   "cell_type": "code",
   "execution_count": 9,
   "metadata": {},
   "outputs": [],
   "source": [
    "library(repr) #Load the repr package to resize plots produced"
   ]
  },
  {
   "cell_type": "code",
   "execution_count": 10,
   "metadata": {
    "scrolled": false
   },
   "outputs": [
    {
     "data": {
      "image/png": "[encoded data removed]",
      "text/plain": [
       "Plot with title \"\""
      ]
     },
     "metadata": {},
     "output_type": "display_data"
    }
   ],
   "source": [
    "# Residuals vs Fitted Plot\n",
    "\n",
    "options(repr.plot.width=7, repr.plot.height=5)\n",
    "plot(final_model, which=1, col=c(\"red\"))"
   ]
  },
  {
   "cell_type": "markdown",
   "metadata": {},
   "source": [
    "From the diagram, the residuals seem to be randomly scattered around zero with no distinct pattern. This indicates that we do not have non-linear relationships among the variables. "
   ]
  },
  {
   "cell_type": "markdown",
   "metadata": {},
   "source": [
    "### Normal Q-Q plot\n",
    "This plot checks if the residuals are normally distributed. If the residuals adhere closely to the straight line on this plot, it is an indication that they are normally distributed. "
   ]
  },
  {
   "cell_type": "code",
   "execution_count": 11,
   "metadata": {
    "scrolled": false
   },
   "outputs": [
    {
     "data": {
      "image/png": "[encoded data removed]",
      "text/plain": [
       "Plot with title \"\""
      ]
     },
     "metadata": {},
     "output_type": "display_data"
    }
   ],
   "source": [
    "#Normal Q-Q plot\n",
    "\n",
    "options(repr.plot.width=7, repr.plot.height=5)\n",
    "plot(final_model, which=2, col=c(\"red\"))"
   ]
  },
  {
   "cell_type": "markdown",
   "metadata": {},
   "source": [
    "Majority of the residuals follow close to the dotted straight line on the plot, indicating that they are normally distributed. The Q-Q plot does hint at a left skewed distribution (we note that some points at the bottom left are quite off the line). However, with a sample size of n = 40, we may not be able to conclude the distribution of the residuals. \n",
    "\n",
    "Overall, for our model, the Q-Q plot shows reasonable alignment to the straight line, suggesting that the residuals are more or less normally distributed. A histogram of the residuals is also plotted below."
   ]
  },
  {
   "cell_type": "code",
   "execution_count": 12,
   "metadata": {},
   "outputs": [
    {
     "name": "stderr",
     "output_type": "stream",
     "text": [
      "Registered S3 methods overwritten by 'ggplot2':\n",
      "  method         from \n",
      "  [.quosures     rlang\n",
      "  c.quosures     rlang\n",
      "  print.quosures rlang\n",
      "Warning message:\n",
      "\"package 'lindia' was built under R version 3.6.1\""
     ]
    },
    {
     "data": {
      "image/png": "[encoded data removed]",
      "text/plain": [
       "plot without title"
      ]
     },
     "metadata": {},
     "output_type": "display_data"
    }
   ],
   "source": [
    "#Plot a histogram of the residuals\n",
    "\n",
    "library(MASS)\n",
    "library(ggplot2)\n",
    "library(lindia)\n",
    "options(repr.plot.width=7, repr.plot.height=5)\n",
    "gg_reshist(final_model, bins = 7)"
   ]
  },
  {
   "cell_type": "markdown",
   "metadata": {},
   "source": [
    "### Spread-location plot\n",
    "This plot shows if residuals are spread equally along the ranges of predictors and checks for the assumption of homoscedasticity. It is best that the residuals are spread above and below a horizontal line. "
   ]
  },
  {
   "cell_type": "code",
   "execution_count": 13,
   "metadata": {},
   "outputs": [
    {
     "data": {
      "image/png": "[encoded data removed]",
      "text/plain": [
       "Plot with title \"\""
      ]
     },
     "metadata": {},
     "output_type": "display_data"
    }
   ],
   "source": [
    "options(repr.plot.width=7, repr.plot.height=5)\n",
    "plot(final_model, which=3, col=c(\"red\"))"
   ]
  },
  {
   "cell_type": "markdown",
   "metadata": {},
   "source": [
    "The residuals are reasonably spread above and below a rather horizontal line. \n",
    "\n",
    "However, we do note the bump in the middle of the line, perhaps due to the point no. 29 being far above the it.As we only have 39 data points, each residual has a more pronounced effect on the shape of the line as well."
   ]
  },
  {
   "cell_type": "markdown",
   "metadata": {},
   "source": [
    "### Residuals vs. Leverage\n",
    "This plot helps to find influential cases in the data set. An influential case is one that, if removed, will affect the model substantially. Therefore, some consideration should be given on whether to include or exclude it. "
   ]
  },
  {
   "cell_type": "code",
   "execution_count": 14,
   "metadata": {},
   "outputs": [
    {
     "data": {
      "image/png": "[encoded data removed]",
      "text/plain": [
       "Plot with title \"\""
      ]
     },
     "metadata": {},
     "output_type": "display_data"
    }
   ],
   "source": [
    "options(repr.plot.width=7, repr.plot.height=5)\n",
    "plot(final_model, which=5, col=c(\"red\"))"
   ]
  },
  {
   "cell_type": "markdown",
   "metadata": {},
   "source": [
    "The plot does not reveal any influential cases that can significantly affect the regression model - none of the cases are outside of the Cook's distance. "
   ]
  },
  {
   "cell_type": "markdown",
   "metadata": {},
   "source": [
    "## Summary of findings\n",
    "The stepwise regression model generated can be considered valid based on the diagnostic plots we have conducted. There are four key findings from our analysis. \n",
    "\n",
    "1) If a country's total population increases, we can expect more arrivals from that country \n",
    "\n",
    "2) If a country's GDP per capital increases, we can expect more arrivals from that country\n",
    "\n",
    "3) The further a country is from Singapore, the fewer international arrivals we can expect from there\n",
    "\n",
    "4) Interestingly, sharing a common language was not a statistically significant factor contributing towards international arrivals.\n"
   ]
  },
  {
   "cell_type": "markdown",
   "metadata": {},
   "source": [
    "# 3.3 Fixed effects analysis\n",
    "In this section, we examine the variation across time (2000-2018) within each country. \n",
    "\n",
    "We address the following question: “For country X, as its GDP and population change across time from 2000-2018, how does its total visitors to Singapore change?”\n",
    "\n",
    "The fixed effects model asks this question about every country in the dataset and arrives at an overall conclusion about the relationship between GDP and population with visitor count."
   ]
  },
  {
   "cell_type": "code",
   "execution_count": 15,
   "metadata": {},
   "outputs": [
    {
     "data": {
      "text/html": [
       "<table>\n",
       "<thead><tr><th scope=col>country_code</th><th scope=col>country</th><th scope=col>year</th><th scope=col>visitor_count</th><th scope=col>total_pop</th><th scope=col>gdp_per_capita</th><th scope=col>comm_lang</th><th scope=col>distw_km</th></tr></thead>\n",
       "<tbody>\n",
       "\t<tr><td>AUS      </td><td>Australia</td><td>2000     </td><td>510347   </td><td>19153000 </td><td>44313.32 </td><td>1        </td><td>5893.497 </td></tr>\n",
       "\t<tr><td>AUS      </td><td>Australia</td><td>2001     </td><td>550681   </td><td>19413000 </td><td>44564.98 </td><td>1        </td><td>5893.497 </td></tr>\n",
       "\t<tr><td>AUS      </td><td>Australia</td><td>2002     </td><td>538378   </td><td>19651400 </td><td>45786.64 </td><td>1        </td><td>5893.497 </td></tr>\n",
       "\t<tr><td>AUS      </td><td>Australia</td><td>2004     </td><td>561219   </td><td>20127400 </td><td>47880.61 </td><td>1        </td><td>5893.497 </td></tr>\n",
       "\t<tr><td>AUS      </td><td>Australia</td><td>2005     </td><td>620196   </td><td>20394800 </td><td>48760.36 </td><td>1        </td><td>5893.497 </td></tr>\n",
       "\t<tr><td>AUS      </td><td>Australia</td><td>2006     </td><td>691632   </td><td>20697900 </td><td>49408.05 </td><td>1        </td><td>5893.497 </td></tr>\n",
       "</tbody>\n",
       "</table>\n"
      ],
      "text/latex": [
       "\\begin{tabular}{r|llllllll}\n",
       " country\\_code & country & year & visitor\\_count & total\\_pop & gdp\\_per\\_capita & comm\\_lang & distw\\_km\\\\\n",
       "\\hline\n",
       "\t AUS       & Australia & 2000      & 510347    & 19153000  & 44313.32  & 1         & 5893.497 \\\\\n",
       "\t AUS       & Australia & 2001      & 550681    & 19413000  & 44564.98  & 1         & 5893.497 \\\\\n",
       "\t AUS       & Australia & 2002      & 538378    & 19651400  & 45786.64  & 1         & 5893.497 \\\\\n",
       "\t AUS       & Australia & 2004      & 561219    & 20127400  & 47880.61  & 1         & 5893.497 \\\\\n",
       "\t AUS       & Australia & 2005      & 620196    & 20394800  & 48760.36  & 1         & 5893.497 \\\\\n",
       "\t AUS       & Australia & 2006      & 691632    & 20697900  & 49408.05  & 1         & 5893.497 \\\\\n",
       "\\end{tabular}\n"
      ],
      "text/markdown": [
       "\n",
       "| country_code | country | year | visitor_count | total_pop | gdp_per_capita | comm_lang | distw_km |\n",
       "|---|---|---|---|---|---|---|---|\n",
       "| AUS       | Australia | 2000      | 510347    | 19153000  | 44313.32  | 1         | 5893.497  |\n",
       "| AUS       | Australia | 2001      | 550681    | 19413000  | 44564.98  | 1         | 5893.497  |\n",
       "| AUS       | Australia | 2002      | 538378    | 19651400  | 45786.64  | 1         | 5893.497  |\n",
       "| AUS       | Australia | 2004      | 561219    | 20127400  | 47880.61  | 1         | 5893.497  |\n",
       "| AUS       | Australia | 2005      | 620196    | 20394800  | 48760.36  | 1         | 5893.497  |\n",
       "| AUS       | Australia | 2006      | 691632    | 20697900  | 49408.05  | 1         | 5893.497  |\n",
       "\n"
      ],
      "text/plain": [
       "  country_code country   year visitor_count total_pop gdp_per_capita comm_lang\n",
       "1 AUS          Australia 2000 510347        19153000  44313.32       1        \n",
       "2 AUS          Australia 2001 550681        19413000  44564.98       1        \n",
       "3 AUS          Australia 2002 538378        19651400  45786.64       1        \n",
       "4 AUS          Australia 2004 561219        20127400  47880.61       1        \n",
       "5 AUS          Australia 2005 620196        20394800  48760.36       1        \n",
       "6 AUS          Australia 2006 691632        20697900  49408.05       1        \n",
       "  distw_km\n",
       "1 5893.497\n",
       "2 5893.497\n",
       "3 5893.497\n",
       "4 5893.497\n",
       "5 5893.497\n",
       "6 5893.497"
      ]
     },
     "metadata": {},
     "output_type": "display_data"
    }
   ],
   "source": [
    "#Load the regression modeling data set \n",
    "\n",
    "df_model <- read.csv(\"df_model_main.csv\",stringsAsFactors = FALSE)\n",
    "head(df_model)"
   ]
  },
  {
   "cell_type": "code",
   "execution_count": 16,
   "metadata": {},
   "outputs": [
    {
     "data": {
      "text/html": [
       "<table>\n",
       "<thead><tr><th scope=col>country_code</th><th scope=col>country</th><th scope=col>year</th><th scope=col>visitor_count</th><th scope=col>total_pop</th><th scope=col>gdp_per_capita</th><th scope=col>comm_lang</th><th scope=col>distw_km</th><th scope=col>log_visitor_count</th><th scope=col>log_gdp_per_capita</th><th scope=col>log_total_pop</th></tr></thead>\n",
       "<tbody>\n",
       "\t<tr><td>AUS      </td><td>Australia</td><td>2000     </td><td>510347   </td><td>19153000 </td><td>44313.32 </td><td>1        </td><td>5893.497 </td><td>13.14285 </td><td>10.69904 </td><td>16.76797 </td></tr>\n",
       "\t<tr><td>AUS      </td><td>Australia</td><td>2001     </td><td>550681   </td><td>19413000 </td><td>44564.98 </td><td>1        </td><td>5893.497 </td><td>13.21891 </td><td>10.70470 </td><td>16.78145 </td></tr>\n",
       "\t<tr><td>AUS      </td><td>Australia</td><td>2002     </td><td>538378   </td><td>19651400 </td><td>45786.64 </td><td>1        </td><td>5893.497 </td><td>13.19632 </td><td>10.73175 </td><td>16.79366 </td></tr>\n",
       "\t<tr><td>AUS      </td><td>Australia</td><td>2004     </td><td>561219   </td><td>20127400 </td><td>47880.61 </td><td>1        </td><td>5893.497 </td><td>13.23787 </td><td>10.77647 </td><td>16.81759 </td></tr>\n",
       "\t<tr><td>AUS      </td><td>Australia</td><td>2005     </td><td>620196   </td><td>20394800 </td><td>48760.36 </td><td>1        </td><td>5893.497 </td><td>13.33779 </td><td>10.79467 </td><td>16.83079 </td></tr>\n",
       "\t<tr><td>AUS      </td><td>Australia</td><td>2006     </td><td>691632   </td><td>20697900 </td><td>49408.05 </td><td>1        </td><td>5893.497 </td><td>13.44681 </td><td>10.80787 </td><td>16.84554 </td></tr>\n",
       "</tbody>\n",
       "</table>\n"
      ],
      "text/latex": [
       "\\begin{tabular}{r|lllllllllll}\n",
       " country\\_code & country & year & visitor\\_count & total\\_pop & gdp\\_per\\_capita & comm\\_lang & distw\\_km & log\\_visitor\\_count & log\\_gdp\\_per\\_capita & log\\_total\\_pop\\\\\n",
       "\\hline\n",
       "\t AUS       & Australia & 2000      & 510347    & 19153000  & 44313.32  & 1         & 5893.497  & 13.14285  & 10.69904  & 16.76797 \\\\\n",
       "\t AUS       & Australia & 2001      & 550681    & 19413000  & 44564.98  & 1         & 5893.497  & 13.21891  & 10.70470  & 16.78145 \\\\\n",
       "\t AUS       & Australia & 2002      & 538378    & 19651400  & 45786.64  & 1         & 5893.497  & 13.19632  & 10.73175  & 16.79366 \\\\\n",
       "\t AUS       & Australia & 2004      & 561219    & 20127400  & 47880.61  & 1         & 5893.497  & 13.23787  & 10.77647  & 16.81759 \\\\\n",
       "\t AUS       & Australia & 2005      & 620196    & 20394800  & 48760.36  & 1         & 5893.497  & 13.33779  & 10.79467  & 16.83079 \\\\\n",
       "\t AUS       & Australia & 2006      & 691632    & 20697900  & 49408.05  & 1         & 5893.497  & 13.44681  & 10.80787  & 16.84554 \\\\\n",
       "\\end{tabular}\n"
      ],
      "text/markdown": [
       "\n",
       "| country_code | country | year | visitor_count | total_pop | gdp_per_capita | comm_lang | distw_km | log_visitor_count | log_gdp_per_capita | log_total_pop |\n",
       "|---|---|---|---|---|---|---|---|---|---|---|\n",
       "| AUS       | Australia | 2000      | 510347    | 19153000  | 44313.32  | 1         | 5893.497  | 13.14285  | 10.69904  | 16.76797  |\n",
       "| AUS       | Australia | 2001      | 550681    | 19413000  | 44564.98  | 1         | 5893.497  | 13.21891  | 10.70470  | 16.78145  |\n",
       "| AUS       | Australia | 2002      | 538378    | 19651400  | 45786.64  | 1         | 5893.497  | 13.19632  | 10.73175  | 16.79366  |\n",
       "| AUS       | Australia | 2004      | 561219    | 20127400  | 47880.61  | 1         | 5893.497  | 13.23787  | 10.77647  | 16.81759  |\n",
       "| AUS       | Australia | 2005      | 620196    | 20394800  | 48760.36  | 1         | 5893.497  | 13.33779  | 10.79467  | 16.83079  |\n",
       "| AUS       | Australia | 2006      | 691632    | 20697900  | 49408.05  | 1         | 5893.497  | 13.44681  | 10.80787  | 16.84554  |\n",
       "\n"
      ],
      "text/plain": [
       "  country_code country   year visitor_count total_pop gdp_per_capita comm_lang\n",
       "1 AUS          Australia 2000 510347        19153000  44313.32       1        \n",
       "2 AUS          Australia 2001 550681        19413000  44564.98       1        \n",
       "3 AUS          Australia 2002 538378        19651400  45786.64       1        \n",
       "4 AUS          Australia 2004 561219        20127400  47880.61       1        \n",
       "5 AUS          Australia 2005 620196        20394800  48760.36       1        \n",
       "6 AUS          Australia 2006 691632        20697900  49408.05       1        \n",
       "  distw_km log_visitor_count log_gdp_per_capita log_total_pop\n",
       "1 5893.497 13.14285          10.69904           16.76797     \n",
       "2 5893.497 13.21891          10.70470           16.78145     \n",
       "3 5893.497 13.19632          10.73175           16.79366     \n",
       "4 5893.497 13.23787          10.77647           16.81759     \n",
       "5 5893.497 13.33779          10.79467           16.83079     \n",
       "6 5893.497 13.44681          10.80787           16.84554     "
      ]
     },
     "metadata": {},
     "output_type": "display_data"
    }
   ],
   "source": [
    "#Perform \"natural log\" transformation on total arrivals, GDP per capita and total population \n",
    "\n",
    "df_model$log_visitor_count = log(df_model$visitor_count)\n",
    "df_model$log_gdp_per_capita = log(df_model$gdp_per_capita)\n",
    "df_model$log_total_pop = log(df_model$total_pop)\n",
    "\n",
    "head(df_model)"
   ]
  },
  {
   "cell_type": "markdown",
   "metadata": {},
   "source": [
    "## Justification for fixed effects analysis\n",
    "If we were to zoom in to particular countries, the relationship between GDP per capita and Total Visitor Arrivals and between Total Population and Total Visitor Arrivals is very clear. For example, take the case of Vietnam from between 2000-2018. "
   ]
  },
  {
   "cell_type": "code",
   "execution_count": 17,
   "metadata": {},
   "outputs": [
    {
     "data": {
      "image/png": "[encoded data removed]",
      "text/plain": [
       "plot without title"
      ]
     },
     "metadata": {},
     "output_type": "display_data"
    },
    {
     "data": {
      "image/png": "[encoded data removed]",
      "text/plain": [
       "plot without title"
      ]
     },
     "metadata": {},
     "output_type": "display_data"
    }
   ],
   "source": [
    "ggplot(df_model[df_model$country==\"Vietnam\",], \n",
    "       aes(x=gdp_per_capita, \n",
    "           y=visitor_count)) + \n",
    "  geom_point() + \n",
    "  labs(x = \"GDP per capita (Vietnam)\", \n",
    "       y=\"Total International Arrivals (millions)\") +\n",
    "  theme_bw() + theme(panel.border = element_blank(), panel.grid.major = element_blank(),\n",
    "                     panel.grid.minor = element_blank(), axis.line = element_line(colour = \"black\"))\n",
    "\n",
    "ggplot(df_model[df_model$country==\"Vietnam\",], \n",
    "       aes(x=total_pop, y=visitor_count)) +\n",
    "  geom_point() + \n",
    "  labs(x = \"Total Population (Vietnam)\", \n",
    "       y=\"Total International Arrivals (millions)\") +\n",
    "  theme_bw() + theme(panel.border = element_blank(), panel.grid.major = element_blank(),\n",
    "                     panel.grid.minor = element_blank(), axis.line = element_line(colour = \"black\"))"
   ]
  },
  {
   "cell_type": "markdown",
   "metadata": {},
   "source": [
    "We observe that as GDP per capita and total population in Vietnam increases, the number of international arrivals to Singapore also increases. Thus, a fixed effects model will assist us to sieve out these relationships. "
   ]
  },
  {
   "cell_type": "code",
   "execution_count": 18,
   "metadata": {},
   "outputs": [],
   "source": [
    "# This is a country-fixed effects model with our independent variables log GDP per capita and log population on log visitor count\n",
    "\n",
    "lm.object <- lm(formula = log_visitor_count ~ log_gdp_per_capita + log_total_pop + factor(country), data = df_model)"
   ]
  },
  {
   "cell_type": "code",
   "execution_count": 19,
   "metadata": {},
   "outputs": [
    {
     "data": {
      "text/plain": [
       "\n",
       "Call:\n",
       "lm(formula = log_visitor_count ~ log_gdp_per_capita + log_total_pop + \n",
       "    factor(country), data = df_model)\n",
       "\n",
       "Residuals:\n",
       "     Min       1Q   Median       3Q      Max \n",
       "-1.29771 -0.11932  0.00571  0.11757  1.22511 \n",
       "\n",
       "Coefficients:\n",
       "                                      Estimate Std. Error t value Pr(>|t|)    \n",
       "(Intercept)                          -25.71047    1.75879 -14.618  < 2e-16 ***\n",
       "log_gdp_per_capita                     1.16186    0.05893  19.715  < 2e-16 ***\n",
       "log_total_pop                          1.58137    0.10496  15.066  < 2e-16 ***\n",
       "factor(country)Bangladesh             -0.47765    0.36151  -1.321  0.18693    \n",
       "factor(country)Brunei Darussalam       4.24328    0.42818   9.910  < 2e-16 ***\n",
       "factor(country)Canada                 -2.88897    0.09638 -29.975  < 2e-16 ***\n",
       "factor(country)China                  -3.08095    0.49204  -6.262 7.41e-10 ***\n",
       "factor(country)Denmark                -1.30904    0.16853  -7.768 3.64e-14 ***\n",
       "factor(country)Egypt                  -4.28659    0.31681 -13.531  < 2e-16 ***\n",
       "factor(country)Finland                -1.35632    0.16894  -8.029 5.50e-15 ***\n",
       "factor(country)France                 -3.38521    0.14434 -23.454  < 2e-16 ***\n",
       "factor(country)Germany                -3.21626    0.16468 -19.530  < 2e-16 ***\n",
       "factor(country)Hong Kong SAR           1.60957    0.14389  11.186  < 2e-16 ***\n",
       "factor(country)India                  -2.19414    0.51860  -4.231 2.70e-05 ***\n",
       "factor(country)Indonesia               0.46533    0.33949   1.371  0.17102    \n",
       "factor(country)Iran                   -3.57821    0.21533 -16.617  < 2e-16 ***\n",
       "factor(country)Israel                 -1.76559    0.21033  -8.394 3.58e-16 ***\n",
       "factor(country)Italy                  -3.94257    0.13903 -28.358  < 2e-16 ***\n",
       "factor(country)Japan                  -2.80812    0.20497 -13.700  < 2e-16 ***\n",
       "factor(country)Kuwait                 -1.18056    0.22472  -5.254 2.10e-07 ***\n",
       "factor(country)Malaysia                1.67858    0.13859  12.112  < 2e-16 ***\n",
       "factor(country)Mauritius               2.27458    0.34961   6.506 1.67e-10 ***\n",
       "factor(country)Myanmar                 0.91912    0.28585   3.215  0.00138 ** \n",
       "factor(country)Netherlands            -1.90619    0.08902 -21.412  < 2e-16 ***\n",
       "factor(country)New Zealand             1.06088    0.18690   5.676 2.18e-08 ***\n",
       "factor(country)Norway                 -1.59621    0.18710  -8.531  < 2e-16 ***\n",
       "factor(country)Pakistan               -2.33784    0.35558  -6.575 1.09e-10 ***\n",
       "factor(country)Philippines             0.80549    0.27713   2.907  0.00379 ** \n",
       "factor(country)Rep Of Ireland         -1.71356    0.25034  -6.845 1.95e-11 ***\n",
       "factor(country)Russian Federation     -3.55579    0.29939 -11.877  < 2e-16 ***\n",
       "factor(country)Saudi Arabia           -3.34469    0.10613 -31.514  < 2e-16 ***\n",
       "factor(country)South Africa (Rep Of)  -2.39670    0.25160  -9.526  < 2e-16 ***\n",
       "factor(country)South Korea            -0.88555    0.13796  -6.419 2.85e-10 ***\n",
       "factor(country)Spain                  -3.84705    0.12127 -31.723  < 2e-16 ***\n",
       "factor(country)Sri Lanka               1.21507    0.19114   6.357 4.17e-10 ***\n",
       "factor(country)Sweden                 -1.69982    0.12240 -13.888  < 2e-16 ***\n",
       "factor(country)Switzerland            -1.26073    0.14208  -8.873  < 2e-16 ***\n",
       "factor(country)Thailand                0.24663    0.21626   1.140  0.25458    \n",
       "factor(country)United Arab Emirates   -0.80303    0.15114  -5.313 1.54e-07 ***\n",
       "factor(country)United Kingdom         -1.91091    0.14203 -13.455  < 2e-16 ***\n",
       "factor(country)USA                    -4.77296    0.29015 -16.450  < 2e-16 ***\n",
       "factor(country)Vietnam                 0.74722    0.29928   2.497  0.01281 *  \n",
       "---\n",
       "Signif. codes:  0 '***' 0.001 '**' 0.01 '*' 0.05 '.' 0.1 ' ' 1\n",
       "\n",
       "Residual standard error: 0.2528 on 581 degrees of freedom\n",
       "Multiple R-squared:  0.9741,\tAdjusted R-squared:  0.9722 \n",
       "F-statistic:   532 on 41 and 581 DF,  p-value: < 2.2e-16\n"
      ]
     },
     "metadata": {},
     "output_type": "display_data"
    }
   ],
   "source": [
    "# Code for the statistical significance of the estimated coefficients, clustering is done at the country level \n",
    "summary(lm.object, cluster=c(\"country\"))"
   ]
  },
  {
   "cell_type": "markdown",
   "metadata": {},
   "source": [
    "### Model interpretation\n",
    "\n",
    "The fixed effects model above can be interpreted as follows:\n",
    " - Holding all else constant, if Total Population increases by 1%, we expect Total Arrivals to increase by 1.58%  \n",
    " - Holding all else constant, if GDP per capita increases by 1%, we expect Total Arrivals to increase by 1.16%  \n",
    " - There is evidence to infer that log(population), log(GDP per capita) are linearly-related to total arrivals - these coefficients are significant at the 1% level \n",
    " - Effect of population is actually more pronounced in the fixed effects model compared to the cross sectional analysis, so we can expect growth in total population in a country to have a larger effect on total visitors from that country\n",
    " - The model can explain around 97.22% of the variation in international arrivals data\n",
    " - It is a positive sign that the fixed effects model and the cross sectional analysis corroborate with each other\n",
    "\n",
    "To run linear regressions, there are some implicit assumptions made. We proceed to check the validity of these assumptions from three aspects:\n",
    " - Homoskedasticity \n",
    " - Normality of residuals \n",
    " - Exogeneity and linearity of independent variables "
   ]
  },
  {
   "cell_type": "code",
   "execution_count": 20,
   "metadata": {},
   "outputs": [
    {
     "data": {
      "image/png": "[encoded data removed]",
      "text/plain": [
       "Plot with title \"\""
      ]
     },
     "metadata": {},
     "output_type": "display_data"
    }
   ],
   "source": [
    "# Plot the residuals against the fitted values to check for homoskedasticity \n",
    "options(repr.plot.width=7, repr.plot.height=5)\n",
    "plot(lm.object, which=1, col=c(\"red\")) "
   ]
  },
  {
   "cell_type": "markdown",
   "metadata": {},
   "source": [
    "This certainly shows that most of the residuals do not change drastically as the value of the fitted values change. There is no systematic relationship between the residuals and fitted values, and most of them lie on the horizontal straight line passing through zero. Thus, our assumptions are valid. \n",
    "\n",
    "In any case, there is no need to assume homoscedasticity as we have used clustered standard errors with the fixed effects model. This, by definition, allows for heteroscedasticity. "
   ]
  },
  {
   "cell_type": "code",
   "execution_count": 22,
   "metadata": {},
   "outputs": [
    {
     "data": {
      "image/png": "[encoded data removed]",
      "text/plain": [
       "plot without title"
      ]
     },
     "metadata": {},
     "output_type": "display_data"
    }
   ],
   "source": [
    "# Plot histogram of residuals\n",
    "gg_reshist(lm.object,bins=20)"
   ]
  },
  {
   "cell_type": "markdown",
   "metadata": {},
   "source": [
    "Another key assumption of linear regression is that residuals are normally distributed (and the mean is 0 - which we saw above). The histogram shows that the residuals are distributed much like the standard normal distribution, with the mean at 0. "
   ]
  },
  {
   "cell_type": "code",
   "execution_count": 23,
   "metadata": {},
   "outputs": [],
   "source": [
    "# Save values of residuals from fixed effects model\n",
    "model_res = resid(lm.object)"
   ]
  },
  {
   "cell_type": "code",
   "execution_count": 24,
   "metadata": {},
   "outputs": [
    {
     "data": {
      "image/png": "[encoded data removed]",
      "text/plain": [
       "plot without title"
      ]
     },
     "metadata": {},
     "output_type": "display_data"
    }
   ],
   "source": [
    "# Plot residuals against log gdp per capita \n",
    "plot(df_model$log_gdp_per_capita,model_res)"
   ]
  },
  {
   "cell_type": "code",
   "execution_count": 25,
   "metadata": {},
   "outputs": [
    {
     "data": {
      "image/png": "[encoded data removed]",
      "text/plain": [
       "plot without title"
      ]
     },
     "metadata": {},
     "output_type": "display_data"
    }
   ],
   "source": [
    "# plot residuals against log total population\n",
    "plot(df_model$log_total_pop,model_res)"
   ]
  },
  {
   "cell_type": "markdown",
   "metadata": {},
   "source": [
    "These two graphs show that the residuals are generally not changing as the independent variables change and are rather close to 0. This lends strength to the linear specification between the independent and dependent variables - we specified our model correctly so our residuals look as such.\n",
    "\n",
    "Furthermore, it also lends strength to the exogeneity assumption. We assumed the independent variables affect the dependent variable in one direction, but not the reverse (ie. total visitor count would affect GDP per capita and Total Population). The plot of the residuals above show that after we control for the independent variables, residuals are close to 0. Hence, the possibility of the other direction where total visitor count affects the independent variables is low as it would mean our residuals would show a relationship with the independent variables, which it does not."
   ]
  },
  {
   "cell_type": "markdown",
   "metadata": {},
   "source": [
    "# 4. Conclusion\n",
    "## General trends analysis - insights\n",
    "Although international arrival numbers have generally increased between 2000-2018, certain years experienced dips due to adverse events. These events underscore the vulnerability of Singapore's tourism industry to many external shocks, such as health crises, gloomy economic outlook in foreign countries and aviation disasters. To mitigate the detrimental effects of unpredictable events, stakeholders could diversify their sources of international arrivals, and cater to visitors from different countries. Beyond STB's efforts to promote Singapore as a tourist destination, other government agencies and civic communities play a key role in ensuring the 'Little Red Dot' remains attractive to visitors. They include maintaining a resilient healthcare system, political stability and domestic security. \n",
    "\n",
    "In recent years, China, Indonesia and India have emerged as the top countries contributing to international arrivals to Singapore. Visitor numbers from China and India have been growing steadily over the period of this study. This presents opportunities for players in the tourism industry to capitalise on. In general, staff should be trained in the appropriate etiquette and languages to better serve a bulk of these guests. Additionally, campaigns and technologies can be adopted to specifically target visitors from China, Indonesia and India. The launch of Alipay in Suntec City is a prime example of catering to Chinese visitors in order to boost tourist receipts. \n",
    "\n",
    "Finally, there is a cyclical pattern in arrivals each year. Arrival numbers usually peak in July, slump in September and surge again in December. While we are unable to verify the exact reasons driving this pattern, this insight could inform stakeholders’ decisions. For instance, hotels could better plan their staff allocation, room availability and prices based on these cyclical patterns. They could have more staff available to serve guests during peak periods (July & December) and send them for training during off-peak months (September - October). Utilising such insights from data could help drive more optimal decision-making and resource usage.\n",
    "\n",
    "## Influential factors analysis - insights\n",
    "Our conclusions from the regression analysis makes intuitive sense and can be translated into strategies for various players in Singapore's tourism industry. \n",
    "\n",
    "As total population and GDP per capita of a country grows, we can expect to see an increase in international arrivals from them. This finding hints at an opportunity to capitalise on the growing size and affluence of the middle class in Asia. It is prudent for STB to focus their marketing efforts on China and Indonesia, and they could consider expending some resources toward our regional neighbours as well (e.g. Vietnam, Thailand). Other stakeholders could consider designing and focusing their offerings to attract visitors from countries in our region. \n",
    "\n",
    "Conversely, as a country gets further away from Singapore (geographically), we expect international arrivals to fall. A greater distance between countries implies longer flight durations, potentially more expensive tickets and even transfer flights. All these factors can be rather prohibitive and deter people from visiting. While geographic distances are unlikely to change, advances in air travel could alter the current situation for the better. This could also signal stakeholders to focus less on attracting visitors from countries further away, as the returns may not be commensurate. \n",
    "\n",
    "Interestingly, we do not find a significant relationship between sharing a common language with Singapore and international arrivals. It seems that linguistic similarities (at least) are not a major consideration when foreigners decide to visit Singapore. "
   ]
  },
  {
   "cell_type": "markdown",
   "metadata": {},
   "source": [
    "## Caveats\n",
    "This section highlights some shortcomings in the project, as well as how the current analysis can be extended. \n",
    "\n",
    "The general trend analysis conducted should be understood as supporting certain explanations and is by no means conclusive. More information can be collected to assess the proposed explanations and obtain a holistic view of international arrivals to Singapore. \n",
    "\n",
    "The regression models are unable to entirely account for all factors influencing international arrivals to Singapore. These could include the availability of flights within each country, and external shocks which are challenging to predict. The models may also be limited to Singapore's context and are not generalisable to other jurisdictions. Finally, the regression analyses only cover a select group of countries whose citizens visit the Little Red Dot. \n",
    "\n",
    "## Further Analysis\n",
    "This project focused mainly on deriving insights using quantitative data and some secondary desk research (e.g. online articles). One suggestion could be to supplement the existing analysis with qualitative data from our guests, such as interviews. This form of primary research could help unearth some of the motivations behind why foreigners visit the Lion City. \n",
    "\n",
    "Another extension could be to obtain additional data of international arrivals to Singapore, such as their demographic information (e.g. age, gender). As mentioned previously, other variables which may affect international arrivals can be explored in the regression analysis and boost the adjusted R-squared value of the model. \n",
    "\n",
    "Finally, another area of study could be to quantify and asses the effects of STB's marketing campaigns or high-profile events on international arrivals to Singapore. For example, to prove the anecdotal statement that \"Crazy Rich Asians\" and the \"Trump-Kim Summit\" helped boost international arrival numbers to Singapore."
   ]
  },
  {
   "cell_type": "markdown",
   "metadata": {},
   "source": []
  }
 ],
 "metadata": {
  "kernelspec": {
   "display_name": "R",
   "language": "R",
   "name": "ir"
  },
  "language_info": {
   "codemirror_mode": "r",
   "file_extension": ".r",
   "mimetype": "text/x-r-source",
   "name": "R",
   "pygments_lexer": "r",
   "version": "3.6.0"
  }
 },
 "nbformat": 4,
 "nbformat_minor": 2
}
